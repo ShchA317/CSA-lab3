{
  "nbformat": 4,
  "nbformat_minor": 0,
  "metadata": {
    "colab": {
      "provenance": [],
      "authorship_tag": "ABX9TyN+j1LjZreUYoCS7rcRn+So",
      "include_colab_link": true
    },
    "kernelspec": {
      "name": "python3",
      "display_name": "Python 3"
    },
    "language_info": {
      "name": "python"
    }
  },
  "cells": [
    {
      "cell_type": "markdown",
      "metadata": {
        "id": "view-in-github",
        "colab_type": "text"
      },
      "source": [
        "<a href=\"https://colab.research.google.com/github/ShchA317/CSA-lab3/blob/main/Lisp_translator.ipynb\" target=\"_parent\"><img src=\"https://colab.research.google.com/assets/colab-badge.svg\" alt=\"Open In Colab\"/></a>"
      ]
    },
    {
      "cell_type": "markdown",
      "source": [
        "translator"
      ],
      "metadata": {
        "id": "4aqbYOw0tQDw"
      }
    },
    {
      "cell_type": "code",
      "source": [
        "import re\n",
        "\n",
        "# удаляет комментарии и уживает код в одну стрку\n",
        "def minimize(code):\n",
        "    pattern = r';.*$'\n",
        "    code = re.sub(pattern, '', code, flags=re.MULTILINE)\n",
        "    compressed_code = code.replace('\\n', '').strip()\n",
        "    compressed_code = ' '.join(compressed_code.split())\n",
        "    return compressed_code"
      ],
      "metadata": {
        "id": "38V-mhF1539K"
      },
      "execution_count": 122,
      "outputs": []
    },
    {
      "cell_type": "code",
      "source": [
        "assert minimize(\"\"\"\n",
        ";gnu clisp  2.49.60\n",
        "\n",
        "(defun inc(n)\n",
        "    (+ n 1 2 3 4)\n",
        "    ) ; comment ;\n",
        "\n",
        "(defun factorial (n)\n",
        "  (if (<= n 1)\n",
        "      1 ;; comment\n",
        "      (* n (factorial (- n 1)))))\n",
        "\n",
        ";(print (factorial 20)) ;; Выводит ответ на задачу\n",
        "(print (inc 2))\n",
        " \"\"\") == \"(defun inc(n) (+ n 1 2 3 4) ) (defun factorial (n) (if (<= n 1) 1 (* n (factorial (- n 1)))))(print (inc 2))\""
      ],
      "metadata": {
        "id": "4EkehsIl6BDJ"
      },
      "execution_count": 123,
      "outputs": []
    },
    {
      "cell_type": "code",
      "execution_count": 139,
      "metadata": {
        "id": "jBl0ecDwtO5z"
      },
      "outputs": [],
      "source": [
        "def text2terms(text):\n",
        "  terms = []\n",
        "  term = \"\"\n",
        "  for char in text:\n",
        "    if char != \" \" and char != \"(\" and char != \")\" and char:\n",
        "      term += char\n",
        "    else:\n",
        "      if char == \" \":\n",
        "        if term != \"\":\n",
        "          terms.append(term)\n",
        "        term = \"\"\n",
        "      if char == \"(\" or char == \")\":\n",
        "        if term != \"\":\n",
        "          terms.append(term)\n",
        "        terms.append(char)\n",
        "        term=\"\"\n",
        "  return terms"
      ]
    },
    {
      "cell_type": "code",
      "source": [
        "a = minimize(\"\"\" (defun sum-of-arithmetic-progression (a d n)\n",
        "  \"Функция для вычисления суммы арифметической прогрессии.\n",
        "\n",
        "   Параметры:\n",
        "   a - первый член прогрессии\n",
        "   d - разность прогрессии\n",
        "   n - количество членов прогрессии\"\n",
        "\n",
        "  (let ((last-term (+ a (* (1- n) d))))\n",
        "    (if (<= n 0)\n",
        "        0\n",
        "        (/ (* n (+ a last-term)) 2))))\n",
        "\n",
        ";; Пример использования\n",
        "(format t \"Сумма арифметической прогрессии: ~d~%\"\n",
        "        (sum-of-arithmetic-progression 3 2 10))\n",
        "        \"\"\")\n",
        "\n",
        "print(text2terms(a))"
      ],
      "metadata": {
        "colab": {
          "base_uri": "https://localhost:8080/"
        },
        "id": "OniIc6d3puz2",
        "outputId": "c116ea15-5f56-4324-b79f-96a51940c172"
      },
      "execution_count": 140,
      "outputs": [
        {
          "output_type": "stream",
          "name": "stdout",
          "text": [
            "['(', 'defun', 'sum-of-arithmetic-progression', '(', 'a', 'd', 'n', ')', '\"Функция', 'для', 'вычисления', 'суммы', 'арифметической', 'прогрессии.', 'Параметры:', 'a', '-', 'первый', 'член', 'прогрессии', 'd', '-', 'разность', 'прогрессии', 'n', '-', 'количество', 'членов', 'прогрессии\"', '(', 'let', '(', '(', 'last-term', '(', '+', 'a', '(', '*', '(', '1-', 'n', ')', 'd', ')', ')', ')', ')', '(', 'if', '(', '<=', 'n', '0', ')', '0', '(', '/', '(', '*', 'n', '(', '+', 'a', 'last-term', ')', ')', '2', ')', ')', ')', ')', '(', 'format', 't', '\"Сумма', 'арифметической', 'прогрессии:', '~d~%\"', '(', 'sum-of-arithmetic-progression', '3', '2', '10', ')', ')']\n"
          ]
        }
      ]
    },
    {
      "cell_type": "code",
      "source": [
        "def is_correct_brackets(terms):\n",
        "  a = 0\n",
        "  for term in terms:\n",
        "    if term == \")\":\n",
        "      a -= 1\n",
        "    if term == \"(\":\n",
        "      a += 1\n",
        "    if a < 0:\n",
        "      return False\n",
        "  if a != 0:\n",
        "    return False\n",
        "  return True\n"
      ],
      "metadata": {
        "id": "0wlNAoj8nESq"
      },
      "execution_count": 141,
      "outputs": []
    },
    {
      "cell_type": "code",
      "source": [
        "assert is_correct_brackets(['(',')']) == True\n",
        "assert is_correct_brackets([')','(']) == False\n",
        "assert is_correct_brackets(['(','(',')',')','(',')']) == True\n",
        "assert is_correct_brackets(['(','(',')',')','(']) == False\n",
        "assert is_correct_brackets(['(',')',')','(',')']) == False\n",
        "assert is_correct_brackets(['(', 'defun', 'sum-of-arithmetic-progression', '(', 'a', 'd', 'n', ')', '', '\"Функция', 'для', 'вычисления', 'суммы', 'арифметической', 'прогрессии.', 'Параметры:', 'a', '-', 'первый', 'член', 'прогрессии', 'd', '-', 'разность', 'прогрессии', 'n', '-', 'количество', 'членов', 'прогрессии\"', '(', 'let', '(', '(', 'last-term', '(', '+', 'a', '(', '*', '(', '1-', 'n', ')', '', 'd', ')', ')', ')', ')', '', '(', 'if', '(', '<=', 'n', '0', ')', '', '0', '(', '/', '(', '*', 'n', '(', '+', 'a', 'last-term', ')', ')', '', '2', ')', ')', ')', ')', '(', 'format', 't', '\"Сумма', 'арифметической', 'прогрессии:', '~d~%\"', '(', 'sum-of-arithmetic-progression', '3', '2', '10', ')', ')'])==True"
      ],
      "metadata": {
        "id": "-RZ2ySGso9kh"
      },
      "execution_count": 142,
      "outputs": []
    },
    {
      "cell_type": "markdown",
      "source": [
        "Теперь у нас есть последовательность термов, которую надо превратить в программу"
      ],
      "metadata": {
        "id": "Hftw1vz2wADr"
      }
    },
    {
      "cell_type": "code",
      "source": [
        "def words():\n",
        "    \"\"\"Полное множество ключевых слов языка.\"\"\"\n",
        "    return {\"print\", }\n"
      ],
      "metadata": {
        "id": "iGnJZeP_93nZ"
      },
      "execution_count": 153,
      "outputs": []
    },
    {
      "cell_type": "code",
      "source": [
        "def terms2code(terms):\n",
        "\n",
        "  return"
      ],
      "metadata": {
        "id": "cptu12lGv_iE"
      },
      "execution_count": 145,
      "outputs": []
    },
    {
      "cell_type": "code",
      "source": [
        "print(terms2code(['(','print', '\"Hello world!\"',')']))\n",
        "print()"
      ],
      "metadata": {
        "colab": {
          "base_uri": "https://localhost:8080/"
        },
        "id": "SA7ECUux8n1c",
        "outputId": "8f22c1b8-768f-4d34-ee92-15d82ce9ab5d"
      },
      "execution_count": 148,
      "outputs": [
        {
          "output_type": "stream",
          "name": "stdout",
          "text": [
            "None\n"
          ]
        }
      ]
    },
    {
      "cell_type": "code",
      "source": [
        "def translate(text):\n",
        "  text = minimize(text)\n",
        "  terms = text2terms(text)\n",
        "  assert is_correct_brackets(terms)==True # TODO: Начать уведомлять пользователя об ошибках в программе\n",
        "  print(terms)\n",
        "\n",
        "\n",
        "code = \"(defun inc(n) (+ n 1 2 3 4) ) (defun factorial (n) (if (<= n 1) 1 (* n (factorial (- n 1)))))(print (inc 2))\"\n",
        "terms = translate(code)"
      ],
      "metadata": {
        "colab": {
          "base_uri": "https://localhost:8080/"
        },
        "id": "nAyghxxwmvVb",
        "outputId": "ea35ec0d-bcef-41d7-9229-8c27af5b8cd8"
      },
      "execution_count": 143,
      "outputs": [
        {
          "output_type": "stream",
          "name": "stdout",
          "text": [
            "['(', 'defun', 'inc', '(', 'n', ')', '(', '+', 'n', '1', '2', '3', '4', ')', ')', '(', 'defun', 'factorial', '(', 'n', ')', '(', 'if', '(', '<=', 'n', '1', ')', '1', '(', '*', 'n', '(', 'factorial', '(', '-', 'n', '1', ')', ')', ')', ')', ')', '(', 'print', '(', 'inc', '2', ')', ')']\n"
          ]
        }
      ]
    }
  ]
}